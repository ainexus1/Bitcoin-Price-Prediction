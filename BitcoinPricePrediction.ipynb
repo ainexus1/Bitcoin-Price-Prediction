{
 "cells": [
  {
   "cell_type": "code",
   "execution_count": null,
   "id": "814f6f11-9b60-4b32-a077-64d9fecd87ef",
   "metadata": {},
   "outputs": [],
   "source": [
    "#Gather the datasets\n",
    "import pandas as pd\n",
    "import yfinance as yf\n",
    "import datetime\n",
    "from datetime import date, timedelta\n",
    "today = date.today()"
   ]
  },
  {
   "cell_type": "code",
   "execution_count": null,
   "id": "85d7fc25-0847-4e96-9894-8abfe1401aac",
   "metadata": {},
   "outputs": [],
   "source": [
    "# Define the start and end dates\n",
    "end_date = date.today().strftime(\"%Y-%m-%d\")\n",
    "start_date = (date.today() - timedelta(days=768)).strftime(\"%Y-%m-%d\")\n",
    "\n",
    "# Download historical cryptocurrency data (e.g., Bitcoin, ticker 'BTC-USD')\n",
    "data = yf.download('BTC-USD', start=start_date, end=end_date, progress=False)\n",
    "\n",
    "# Reset the index and select specific columns\n",
    "data.reset_index(inplace=True)\n",
    "data = data[[\"Date\", \"Open\", \"High\", \"Low\", \"Close\", \"Adj Close\", \"Volume\"]]"
   ]
  },
  {
   "cell_type": "code",
   "execution_count": null,
   "id": "f258a60c-2391-4c02-974e-0e6f71ae78db",
   "metadata": {},
   "outputs": [],
   "source": [
    "data.head()"
   ]
  },
  {
   "cell_type": "code",
   "execution_count": null,
   "id": "450084d3-d645-424d-9d07-2c40ce071d1f",
   "metadata": {},
   "outputs": [],
   "source": [
    "import plotly.graph_objects as go\n",
    "figure = go.Figure(data=[go.Candlestick(x=data[\"Date\"],\n",
    "                                        open=data[\"Open\"],\n",
    "                                        high =data[\"High\"],\n",
    "                                        low = data[\"Low\"],\n",
    "                                        close = data[\"Close\"])])\n",
    "figure.update_layout(title= \"Bitcoin Price Analysis\",\n",
    "                    xaxis_rangeslider_visible=False)\n",
    "figure.show()"
   ]
  },
  {
   "cell_type": "code",
   "execution_count": null,
   "id": "0bbbbc40-198e-4d60-b6a3-016f93d5fad8",
   "metadata": {},
   "outputs": [],
   "source": [
    "correlation = data.corr()\n",
    "print(correlation[\"Close\"].sort_values(ascending=False))"
   ]
  },
  {
   "cell_type": "code",
   "execution_count": null,
   "id": "7a00b4b9-932b-4d10-8cef-66712783c4bb",
   "metadata": {},
   "outputs": [],
   "source": [
    "from autots import AutoTS\n",
    "\n",
    "# Assuming your 'data' DataFrame has a datetime column named 'Date' and a target column named 'Close'\n",
    "model = AutoTS(forecast_length=30, frequency='infer', ensemble='simple')\n",
    "model = model.fit(data, date_col='Date', value_col='Close')\n",
    "\n",
    "# Generate forecasts\n",
    "prediction = model.predict(forecast_length=30)\n",
    "forecast = prediction.forecast\n",
    "print(forecast)"
   ]
  }
 ],
 "metadata": {
  "kernelspec": {
   "display_name": "Python 3 (ipykernel)",
   "language": "python",
   "name": "python3"
  },
  "language_info": {
   "codemirror_mode": {
    "name": "ipython",
    "version": 3
   },
   "file_extension": ".py",
   "mimetype": "text/x-python",
   "name": "python",
   "nbconvert_exporter": "python",
   "pygments_lexer": "ipython3",
   "version": "3.11.5"
  }
 },
 "nbformat": 4,
 "nbformat_minor": 5
}
